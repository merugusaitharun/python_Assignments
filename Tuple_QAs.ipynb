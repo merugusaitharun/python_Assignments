{
 "cells": [
  {
   "cell_type": "raw",
   "id": "011e41f9-1447-4d39-b24c-6a976dfe0f44",
   "metadata": {},
   "source": [
    "Question 1: Write a Python program to create an empty tuple.\n",
    "sample input :\n",
    "var = (10,11,15,20)\n",
    "sample output :\n",
    "result :()"
   ]
  },
  {
   "cell_type": "code",
   "execution_count": 1,
   "id": "da9c3ec8-87a0-419c-b7ea-5177d248ea19",
   "metadata": {},
   "outputs": [
    {
     "name": "stdout",
     "output_type": "stream",
     "text": [
      "()\n"
     ]
    }
   ],
   "source": [
    "# ans:\n",
    "empty_tuple = ()\n",
    "print(empty_tuple)"
   ]
  },
  {
   "cell_type": "raw",
   "id": "cbd6541f-8c91-4e31-990c-d2f406cce0cc",
   "metadata": {},
   "source": [
    "Question 2: Write a Python program to access the elements of a tuple.\n",
    "sample input :\n",
    "var = (10,15,20,40,55)\n",
    "sample output :\n",
    "result : Access using Techniques available ex: 20 can be accessed with there memory allocation"
   ]
  },
  {
   "cell_type": "code",
   "execution_count": 4,
   "id": "256e93ff-fb84-4ceb-8b72-d07496060e1e",
   "metadata": {},
   "outputs": [
    {
     "name": "stdout",
     "output_type": "stream",
     "text": [
      "20\n",
      "(10, 15, 20, 40)\n",
      "10\n",
      "15\n",
      "20\n",
      "40\n",
      "55\n"
     ]
    }
   ],
   "source": [
    "# ans:\n",
    "var = (10,15,20,40,55)\n",
    "print(var[2])\n",
    "print(var[:4])\n",
    "for element in var:\n",
    "    print(element)"
   ]
  },
  {
   "cell_type": "raw",
   "id": "dc01109f-9ef1-483d-bc9c-5043a737adcb",
   "metadata": {},
   "source": [
    "Question 3: Write a Python program to concatenate two tuples.\n",
    "Sample Input 1:\n",
    "\n",
    "Tuple 1: (1, 2, 3)\n",
    "Tuple 2: (4, 5, 6)\n",
    "Sample Output 1:\n",
    "\n",
    "Concatenated Tuple: (1, 2, 3, 4, 5, 6)\n",
    "Sample Input 2:\n",
    "\n",
    "Tuple 1: (\"apple\", \"banana\")\n",
    "Tuple 2: (\"cherry\", \"date\")\n",
    "Sample Output 2:\n",
    "\n",
    "Concatenated Tuple: (\"apple\", \"banana\", \"cherry\", \"date\")"
   ]
  },
  {
   "cell_type": "code",
   "execution_count": 9,
   "id": "e3959755-9292-4e0b-bad3-b6be0462c3d9",
   "metadata": {},
   "outputs": [
    {
     "name": "stdout",
     "output_type": "stream",
     "text": [
      "(1, 2, 3, 4, 5, 6)\n",
      "('apple', 'banana', 'cherry', 'date')\n"
     ]
    }
   ],
   "source": [
    "# ans:\n",
    "Tuple1 = (1, 2, 3)\n",
    "Tuple2 = (4, 5, 6)\n",
    "concatenated_tuple = Tuple1 + Tuple2\n",
    "print(concatenated_tuple)\n",
    "\n",
    "tuple1 = ('apple','banana')\n",
    "tuple2 = ('cherry','date')\n",
    "Concatenated_tuple = tuple1 + tuple2\n",
    "print(Concatenated_tuple)"
   ]
  },
  {
   "cell_type": "raw",
   "id": "29237d81-8ec0-42db-9f76-5820f288af8c",
   "metadata": {},
   "source": [
    "Question 4: Write a Python program to access the first and last elements of a tuple.\n",
    "Sample Input: (1, 2, 3, 4, 5)\n",
    "Sample Output: First Element: 1, Last Element: 5"
   ]
  },
  {
   "cell_type": "code",
   "execution_count": 13,
   "id": "0a6358e6-71d4-4165-b360-9de1f027a69c",
   "metadata": {},
   "outputs": [
    {
     "name": "stdout",
     "output_type": "stream",
     "text": [
      "First Element: 1 , Last Element: 5\n"
     ]
    }
   ],
   "source": [
    "# ans:\n",
    "tuple_var = (1,2,3,4,5)\n",
    "var1 = tuple_var[0]\n",
    "var2 = tuple_var[-1]\n",
    "print(f'First Element: {var1} , Last Element: {var2}')"
   ]
  },
  {
   "cell_type": "raw",
   "id": "85ce2afb-14c7-4029-87e9-a3a2a1457bec",
   "metadata": {},
   "source": [
    "Question 5: Write a Python program to reverse a tuple.\n",
    "Sample Input: (5, 4, 3, 2, 1)\n",
    "Sample Output: (1, 2, 3, 4, 5)\n"
   ]
  },
  {
   "cell_type": "code",
   "execution_count": 17,
   "id": "051734f7-21ec-4f40-becc-380afea53e00",
   "metadata": {},
   "outputs": [
    {
     "name": "stdout",
     "output_type": "stream",
     "text": [
      "(1, 2, 3, 4, 5)\n"
     ]
    }
   ],
   "source": [
    "#ans:\n",
    "var = (5, 4, 3, 2, 1)\n",
    "var1 = var[::-1]\n",
    "print(var1)"
   ]
  },
  {
   "cell_type": "raw",
   "id": "85d8a6f6-ca16-4c1f-b631-572bbc97e95c",
   "metadata": {},
   "source": [
    "Question 6: Write a Python program to find the maximum and minimum elements of a tuple.\n",
    "Sample Input: (15, 25, 10, 30, 20)\n",
    "Sample Output: Maximum: 30, Minimum: 10\n"
   ]
  },
  {
   "cell_type": "code",
   "execution_count": 20,
   "id": "32557411-d95d-45d1-8f2f-94b77cbefedc",
   "metadata": {},
   "outputs": [
    {
     "name": "stdout",
     "output_type": "stream",
     "text": [
      "Maximum: 30, Minimum: 10\n"
     ]
    }
   ],
   "source": [
    "#ans:\n",
    "var = (15, 25, 10, 30, 20)\n",
    "max_num = max(var)\n",
    "min_num = min(var)\n",
    "print(f'Maximum: {max_num}, Minimum: {min_num}')"
   ]
  },
  {
   "cell_type": "raw",
   "id": "30db2f18-c074-4957-975e-6428b3f021e3",
   "metadata": {},
   "source": [
    "Question 7: Write a Python program to remove an element from a tuple.\n",
    "Sample Input: (1, 2, 3, 4, 5), 3\n",
    "Sample Output: (1, 2, 4, 5)"
   ]
  },
  {
   "cell_type": "code",
   "execution_count": 26,
   "id": "bf19315b-701d-43d9-a49d-828fceadd0c3",
   "metadata": {},
   "outputs": [
    {
     "ename": "TypeError",
     "evalue": "'tuple' object is not callable",
     "output_type": "error",
     "traceback": [
      "\u001b[1;31m---------------------------------------------------------------------------\u001b[0m",
      "\u001b[1;31mTypeError\u001b[0m                                 Traceback (most recent call last)",
      "Cell \u001b[1;32mIn[26], line 5\u001b[0m\n\u001b[0;32m      3\u001b[0m my_list \u001b[38;5;241m=\u001b[39m \u001b[38;5;28mlist\u001b[39m(my_tuple)\n\u001b[0;32m      4\u001b[0m my_list\u001b[38;5;241m.\u001b[39mremove(\u001b[38;5;241m3\u001b[39m)\n\u001b[1;32m----> 5\u001b[0m new_tuple \u001b[38;5;241m=\u001b[39m \u001b[38;5;28mtuple\u001b[39m(my_list)\n\u001b[0;32m      6\u001b[0m \u001b[38;5;28mprint\u001b[39m(new_tuple)\n",
      "\u001b[1;31mTypeError\u001b[0m: 'tuple' object is not callable"
     ]
    }
   ],
   "source": [
    "# ans:\n",
    "my_tuple = (1,2,3,4,5)\n",
    "my_list = list(my_tuple)\n",
    "my_list.remove(3)\n",
    "new_tuple = tuple(my_list)\n",
    "print(new_tuple)"
   ]
  },
  {
   "cell_type": "raw",
   "id": "6b049be8-512b-4ad2-8f57-67d473273d7a",
   "metadata": {},
   "source": [
    "Question 8: Write a Python program to convert a list of tuples into a dictionary.\n",
    "Sample Input: [(1, \"one\"), (2, \"two\"), (3, \"three\")]\n",
    "Sample Output: {1: 'one', 2: 'two', 3: 'three'}\n"
   ]
  },
  {
   "cell_type": "code",
   "execution_count": 27,
   "id": "1f7a240a-c25f-4c41-9fe6-a8cb623cc2c1",
   "metadata": {},
   "outputs": [
    {
     "name": "stdout",
     "output_type": "stream",
     "text": [
      "{1: 'one', 2: 'two', 3: 'three'}\n"
     ]
    }
   ],
   "source": [
    "#ans\n",
    "lis_tup = [(1, \"one\"), (2, \"two\"), (3, \"three\")]\n",
    "dic = dict(lis_tup)\n",
    "print(dic)"
   ]
  },
  {
   "cell_type": "raw",
   "id": "72e82e98-7bd7-4901-bb0c-4a63bbfe8ff9",
   "metadata": {},
   "source": [
    "Question 9: Write a Python program to find the intersection of two tuples.\n",
    "Sample Input: (1, 2, 3, 4, 5), (4, 5, 6, 7, 8)\n",
    "Sample Output: (4, 5)"
   ]
  },
  {
   "cell_type": "code",
   "execution_count": 29,
   "id": "f138428d-5bea-4273-95f9-72e53325d26a",
   "metadata": {},
   "outputs": [
    {
     "ename": "TypeError",
     "evalue": "'tuple' object is not callable",
     "output_type": "error",
     "traceback": [
      "\u001b[1;31m---------------------------------------------------------------------------\u001b[0m",
      "\u001b[1;31mTypeError\u001b[0m                                 Traceback (most recent call last)",
      "Cell \u001b[1;32mIn[29], line 7\u001b[0m\n\u001b[0;32m      5\u001b[0m     intersection_set \u001b[38;5;241m=\u001b[39m set1\u001b[38;5;241m.\u001b[39mintersection(set2)\n\u001b[0;32m      6\u001b[0m     \u001b[38;5;28;01mreturn\u001b[39;00m \u001b[38;5;28mtuple\u001b[39m(intersection_set)\n\u001b[1;32m----> 7\u001b[0m \u001b[38;5;28mprint\u001b[39m(intersection((\u001b[38;5;241m1\u001b[39m, \u001b[38;5;241m2\u001b[39m, \u001b[38;5;241m3\u001b[39m, \u001b[38;5;241m4\u001b[39m, \u001b[38;5;241m5\u001b[39m), (\u001b[38;5;241m4\u001b[39m, \u001b[38;5;241m5\u001b[39m, \u001b[38;5;241m6\u001b[39m, \u001b[38;5;241m7\u001b[39m, \u001b[38;5;241m8\u001b[39m)))\n",
      "Cell \u001b[1;32mIn[29], line 6\u001b[0m, in \u001b[0;36mintersection\u001b[1;34m(tup1, tup2)\u001b[0m\n\u001b[0;32m      4\u001b[0m set2 \u001b[38;5;241m=\u001b[39m \u001b[38;5;28mset\u001b[39m(tup2)\n\u001b[0;32m      5\u001b[0m intersection_set \u001b[38;5;241m=\u001b[39m set1\u001b[38;5;241m.\u001b[39mintersection(set2)\n\u001b[1;32m----> 6\u001b[0m \u001b[38;5;28;01mreturn\u001b[39;00m \u001b[38;5;28mtuple\u001b[39m(intersection_set)\n",
      "\u001b[1;31mTypeError\u001b[0m: 'tuple' object is not callable"
     ]
    }
   ],
   "source": [
    "# ans\n",
    "def intersection(tup1,tup2):\n",
    "    set1 = set(tup1)\n",
    "    set2 = set(tup2)\n",
    "    intersection_set = set1.intersection(set2)\n",
    "    return tuple(intersection_set)\n",
    "print(intersection((1, 2, 3, 4, 5), (4, 5, 6, 7, 8)))"
   ]
  },
  {
   "cell_type": "raw",
   "id": "60cade77-be10-46b1-acff-c2200fcea283",
   "metadata": {},
   "source": [
    "Question 10: Write a Python program to sort a tuple of tuples by the second element of each tuple.\n",
    "Sample Input: ((1, 5), (3, 2), (2, 7), (4, 6))\n",
    "Sample Output: ((3, 2), (1, 5), (4, 6), (2, 7)"
   ]
  },
  {
   "cell_type": "code",
   "execution_count": 32,
   "id": "b027e57b-ddfd-417e-b86d-20719b55350d",
   "metadata": {},
   "outputs": [
    {
     "name": "stdout",
     "output_type": "stream",
     "text": [
      "[(3, 2), (1, 5), (4, 6), (2, 7)]\n"
     ]
    }
   ],
   "source": [
    "#ans:\n",
    "def sort_tuple(self):\n",
    "    return sorted(self,key = lambda x:x[1])  # here the key argument of x is important for selecting the second element in each tuple we can chage by[0]\n",
    "print(sort_tuple(((1, 5), (3, 2), (2, 7), (4, 6))))"
   ]
  },
  {
   "cell_type": "code",
   "execution_count": null,
   "id": "5f0a0d85-d87d-44af-bee2-59ab461a75cc",
   "metadata": {},
   "outputs": [],
   "source": []
  }
 ],
 "metadata": {
  "kernelspec": {
   "display_name": "Python 3 (ipykernel)",
   "language": "python",
   "name": "python3"
  },
  "language_info": {
   "codemirror_mode": {
    "name": "ipython",
    "version": 3
   },
   "file_extension": ".py",
   "mimetype": "text/x-python",
   "name": "python",
   "nbconvert_exporter": "python",
   "pygments_lexer": "ipython3",
   "version": "3.11.7"
  }
 },
 "nbformat": 4,
 "nbformat_minor": 5
}
